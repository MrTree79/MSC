{
 "cells": [
  {
   "cell_type": "code",
   "execution_count": 1,
   "id": "3937eb7b",
   "metadata": {},
   "outputs": [],
   "source": [
    "sqrt3Do[iv1_, iv2_, n_] := Module[\n",
    "    {xL = iv1, xR = iv2, xM},\n",
    "    xM = (xL + xR)/2;\n",
    "    Do[\n",
    "        If[xM^2 < 3, xL = xM, xR = xM];\n",
    "        xM = (xL + xR)/2,\n",
    "        n\n",
    "    ];\n",
    "    xM//N\n",
    "]"
   ]
  },
  {
   "cell_type": "code",
   "execution_count": 3,
   "id": "4d0d56fd-f5ad-4260-8b70-36647d20603f",
   "metadata": {},
   "outputs": [
    {
     "data": {
      "text/html": [
       "<div><pre style=\"&#102;&#111;&#110;&#116;&#45;&#102;&#97;&#109;&#105;&#108;&#121;&#58;&#32;&#34;&#67;&#111;&#117;&#114;&#105;&#101;&#114;&#32;&#78;&#101;&#119;&#34;&#44;&#67;&#111;&#117;&#114;&#105;&#101;&#114;&#44;&#109;&#111;&#110;&#111;&#115;&#112;&#97;&#99;&#101;&#59;\">&#49;&#46;&#55;&#51;&#50;&#57;&#49;</pre></div>"
      ],
      "text/plain": [
       "1.73291"
      ]
     },
     "execution_count": 3,
     "metadata": {
      "text/html": [],
      "text/plain": []
     },
     "output_type": "execute_result"
    }
   ],
   "source": [
    "sqrt3Do[0,3,10]"
   ]
  },
  {
   "cell_type": "code",
   "execution_count": null,
   "id": "9515a5e5-77bd-4773-ac76-affbea53386f",
   "metadata": {},
   "outputs": [],
   "source": []
  }
 ],
 "metadata": {
  "kernelspec": {
   "display_name": "Wolfram Language 13.3",
   "language": "Wolfram Language",
   "name": "wolframlanguage13.3"
  },
  "language_info": {
   "codemirror_mode": "mathematica",
   "file_extension": ".m",
   "mimetype": "application/vnd.wolfram.m",
   "name": "Wolfram Language",
   "pygments_lexer": "mathematica",
   "version": "12.0"
  }
 },
 "nbformat": 4,
 "nbformat_minor": 5
}
