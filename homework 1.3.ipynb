{
 "cells": [
  {
   "cell_type": "code",
   "execution_count": null,
   "id": "9d2dcd83-ed0c-45c5-b7fa-48a1b71dca77",
   "metadata": {},
   "outputs": [],
   "source": [
    "Cv[T_, QE_] := 3 NA kB (QE/T)^2 Exp[QE/T]/(Exp[QE/T]-1)^2"
   ]
  },
  {
   "cell_type": "code",
   "execution_count": null,
   "id": "739388a4-9924-48aa-80a3-ab517d589d04",
   "metadata": {},
   "outputs": [],
   "source": [
    "NA = 6.022*10^23;\n",
    "kB = 1.38*10^-23;\n",
    "\n",
    "p1 = Plot[Cv[T,1320],{T,0,1320}];  (* Diamond *)\n",
    "p2 = Plot[Cv[T,420], {T,0,420}, PlotStyle -> Red];  (* Hg *)\n",
    "Show[p1,p2]"
   ]
  },
  {
   "cell_type": "code",
   "execution_count": null,
   "id": "a960d55b-5ac5-4265-9516-80cb044b1aff",
   "metadata": {},
   "outputs": [],
   "source": []
  }
 ],
 "metadata": {
  "kernelspec": {
   "display_name": "Wolfram Language 13.3",
   "language": "Wolfram Language",
   "name": "wolframlanguage13.3"
  },
  "language_info": {
   "codemirror_mode": "mathematica",
   "file_extension": ".m",
   "mimetype": "application/vnd.wolfram.m",
   "name": "Wolfram Language",
   "pygments_lexer": "mathematica",
   "version": "12.0"
  }
 },
 "nbformat": 4,
 "nbformat_minor": 5
}
