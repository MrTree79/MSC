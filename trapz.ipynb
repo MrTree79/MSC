{
 "cells": [
  {
   "cell_type": "code",
   "execution_count": 1,
   "id": "ce76145b-4dad-4374-afdd-b6e09485d366",
   "metadata": {},
   "outputs": [],
   "source": [
    "trapz[a_, b_, n_] := Module[{h, k, x},\n",
    "    h = (b - a)/n;\n",
    "    x[k_] := a + k h;\n",
    "    N[\n",
    "        h*(f[a]+f[b])/2 + h Sum[f[x[k]],{k,1,n-1}]\n",
    "    ]\n",
    "]"
   ]
  },
  {
   "cell_type": "code",
   "execution_count": 2,
   "id": "259030bb-6ec3-4332-847e-3f1b9db7c14f",
   "metadata": {},
   "outputs": [],
   "source": [
    "f[x_] := (2 x + 3)/(x^2 + 5 x + 6)"
   ]
  },
  {
   "cell_type": "code",
   "execution_count": 6,
   "id": "714aab14-846e-4e55-93e2-97d8027f7aef",
   "metadata": {},
   "outputs": [
    {
     "data": {
      "text/html": [
       "<div><pre style=\"&#102;&#111;&#110;&#116;&#45;&#102;&#97;&#109;&#105;&#108;&#121;&#58;&#32;&#34;&#67;&#111;&#117;&#114;&#105;&#101;&#114;&#32;&#78;&#101;&#119;&#34;&#44;&#67;&#111;&#117;&#114;&#105;&#101;&#114;&#44;&#109;&#111;&#110;&#111;&#115;&#112;&#97;&#99;&#101;&#59;\">&#48;&#46;&#52;&#53;&#55;&#53;&#56;&#49;</pre></div>"
      ],
      "text/plain": [
       "0.457581"
      ]
     },
     "execution_count": 6,
     "metadata": {
      "text/html": [],
      "text/plain": []
     },
     "output_type": "execute_result"
    }
   ],
   "source": [
    "trapz[0, 1, 50]"
   ]
  },
  {
   "cell_type": "code",
   "execution_count": 5,
   "id": "1ecf731f-cf5a-4b20-b4d3-b2e74b650faf",
   "metadata": {},
   "outputs": [
    {
     "data": {
      "text/html": [
       "<div><pre style=\"&#102;&#111;&#110;&#116;&#45;&#102;&#97;&#109;&#105;&#108;&#121;&#58;&#32;&#34;&#67;&#111;&#117;&#114;&#105;&#101;&#114;&#32;&#78;&#101;&#119;&#34;&#44;&#67;&#111;&#117;&#114;&#105;&#101;&#114;&#44;&#109;&#111;&#110;&#111;&#115;&#112;&#97;&#99;&#101;&#59;\">&#48;&#46;&#52;&#53;&#55;&#53;&#56;&#49;</pre></div>"
      ],
      "text/plain": [
       "0.457581"
      ]
     },
     "execution_count": 5,
     "metadata": {
      "text/html": [],
      "text/plain": []
     },
     "output_type": "execute_result"
    }
   ],
   "source": [
    "Integrate[f[x],{x,0,1}]//N"
   ]
  },
  {
   "cell_type": "code",
   "execution_count": 7,
   "id": "15566740-427c-4617-a86c-057e75711577",
   "metadata": {},
   "outputs": [],
   "source": [
    "f[x_] := Sqrt[ArcTan[x]]"
   ]
  },
  {
   "cell_type": "code",
   "execution_count": 14,
   "id": "44fa9f59-7200-4826-a916-236ad10b0b73",
   "metadata": {},
   "outputs": [
    {
     "data": {
      "text/html": [
       "<div><pre style=\"&#102;&#111;&#110;&#116;&#45;&#102;&#97;&#109;&#105;&#108;&#121;&#58;&#32;&#34;&#67;&#111;&#117;&#114;&#105;&#101;&#114;&#32;&#78;&#101;&#119;&#34;&#44;&#67;&#111;&#117;&#114;&#105;&#101;&#114;&#44;&#109;&#111;&#110;&#111;&#115;&#112;&#97;&#99;&#101;&#59;\">&#48;&#46;&#54;&#50;&#57;&#56;&#50;&#51;</pre></div>"
      ],
      "text/plain": [
       "0.629823"
      ]
     },
     "execution_count": 14,
     "metadata": {
      "text/html": [],
      "text/plain": []
     },
     "output_type": "execute_result"
    }
   ],
   "source": [
    "trapz[0,1,5000]"
   ]
  },
  {
   "cell_type": "code",
   "execution_count": 9,
   "id": "1f8018ad-9a92-4d7a-bba3-5031f0cf2143",
   "metadata": {},
   "outputs": [
    {
     "data": {
      "text/html": [
       "<div><pre style=\"&#102;&#111;&#110;&#116;&#45;&#102;&#97;&#109;&#105;&#108;&#121;&#58;&#32;&#34;&#67;&#111;&#117;&#114;&#105;&#101;&#114;&#32;&#78;&#101;&#119;&#34;&#44;&#67;&#111;&#117;&#114;&#105;&#101;&#114;&#44;&#109;&#111;&#110;&#111;&#115;&#112;&#97;&#99;&#101;&#59;\">&#48;&#46;&#54;&#50;&#57;&#56;&#50;&#51;</pre></div>"
      ],
      "text/plain": [
       "0.629823"
      ]
     },
     "execution_count": 9,
     "metadata": {
      "text/html": [],
      "text/plain": []
     },
     "output_type": "execute_result"
    }
   ],
   "source": [
    "NIntegrate[f[x],{x,0,1}]"
   ]
  },
  {
   "cell_type": "code",
   "execution_count": null,
   "id": "ebb9d258-bf61-4e2f-b364-60f0178c0fe4",
   "metadata": {},
   "outputs": [],
   "source": []
  }
 ],
 "metadata": {
  "kernelspec": {
   "display_name": "Wolfram Language 13.3",
   "language": "Wolfram Language",
   "name": "wolframlanguage13.3"
  },
  "language_info": {
   "codemirror_mode": "mathematica",
   "file_extension": ".m",
   "mimetype": "application/vnd.wolfram.m",
   "name": "Wolfram Language",
   "pygments_lexer": "mathematica",
   "version": "12.0"
  }
 },
 "nbformat": 4,
 "nbformat_minor": 5
}
