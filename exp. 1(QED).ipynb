{
 "cells": [
  {
   "cell_type": "code",
   "execution_count": 9,
   "id": "c156a4f0",
   "metadata": {},
   "outputs": [
    {
     "data": {
      "text/html": [
       "<div><pre style=\"&#102;&#111;&#110;&#116;&#45;&#102;&#97;&#109;&#105;&#108;&#121;&#58;&#32;&#34;&#67;&#111;&#117;&#114;&#105;&#101;&#114;&#32;&#78;&#101;&#119;&#34;&#44;&#67;&#111;&#117;&#114;&#105;&#101;&#114;&#44;&#109;&#111;&#110;&#111;&#115;&#112;&#97;&#99;&#101;&#59;\">&#32;&#32;&#32;&#32;&#32;&#32;&#32;&#32;&#32;&#32;&#45;&#49;&#52;&#10;&#49;&#46;&#49;&#50;&#56;&#49;&#49;&#32;&#49;&#48;</pre></div>"
      ],
      "text/plain": [
       "          -14\n",
       "1.12811 10"
      ]
     },
     "execution_count": 21,
     "metadata": {
      "text/html": [],
      "text/plain": []
     },
     "output_type": "execute_result"
    }
   ],
   "source": [
    "(*Quantization of Electrons in a One-Dimensional Infinite Potential Well: QED*)\n",
    "\n",
    "(*Potential well width a*)\n",
    "a := 1.0*10^-2 (*10^-9 nm; 10^-2 cm*)\n",
    "\n",
    "(*Planck constant h; Reduced Planck constant hb; Electron mass u*)\n",
    "h = 6.626*10^-34;\n",
    "hb = h/(2*Pi);\n",
    "u = 9.11*10^-31;\n",
    "\n",
    "(*One electronvolt (1 eV)*)\n",
    "eV = 1.602*10^-19;\n",
    "\n",
    "(*Quantization (unit: J)*)\n",
    "DE = (3*(Pi^2)*hb^2)/(2*u*a^2);\n",
    "\n",
    "(*Quantization (unit: eV) *)\n",
    "DE/eV"
   ]
  }
 ],
 "metadata": {
  "kernelspec": {
   "display_name": "Wolfram Language 13.3",
   "language": "Wolfram Language",
   "name": "wolframlanguage13.3"
  },
  "language_info": {
   "codemirror_mode": "mathematica",
   "file_extension": ".m",
   "mimetype": "application/vnd.wolfram.m",
   "name": "Wolfram Language",
   "pygments_lexer": "mathematica",
   "version": "12.0"
  }
 },
 "nbformat": 4,
 "nbformat_minor": 5
}
