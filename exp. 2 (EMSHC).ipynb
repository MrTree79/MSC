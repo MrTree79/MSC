{
 "cells": [
  {
   "cell_type": "code",
   "execution_count": null,
   "id": "0b234ead-a39e-4dce-a3ea-dbd3c3da5e6e",
   "metadata": {},
   "outputs": [],
   "source": [
    "(* Task One: *)\n",
    "\n",
    "U = 3*N*kB*T;  (* Based on the Equipartition Theorem *)\n",
    "Cv = D[U,T]    (*Dulong - Petit Law*)"
   ]
  },
  {
   "cell_type": "code",
   "execution_count": null,
   "id": "508ff790-1473-4549-9b8c-a146275335a0",
   "metadata": {},
   "outputs": [],
   "source": [
    "(*鉴于N是Wolfram的内部函数，故修改变量名称为 NA = 6.022*10^23；\n",
    "即 Avogadro's constant；\n",
    "由此规定了1mol物质的量。*)\n",
    "\n",
    "U = 3*NA*kB*T;  (* Based on the Equipartition Theorem *)\n",
    "Cv = D[U,T]     (* Dulong - Petit Law *)"
   ]
  },
  {
   "cell_type": "code",
   "execution_count": null,
   "id": "c759046d-a824-48ea-8aeb-c9987458dad9",
   "metadata": {},
   "outputs": [],
   "source": [
    "(* Task Two: *)\n",
    "\n",
    "U =  3 NA (hb w/2) + (3 NA hb w)/(Exp[hb w/(kB T)]-1);  (* Based on the Energy Quantum Hypothesis. *)\n",
    "Cv = D[U, T]                                          (* Einstein Model of Solid-State Heat Capacity *) "
   ]
  },
  {
   "cell_type": "code",
   "execution_count": null,
   "id": "c75d6c2c-c6bd-40cf-931e-557bce4f71ce",
   "metadata": {},
   "outputs": [],
   "source": [
    "(* Task Three: *)\n",
    "\n",
    "(* w: Vibration frequency of a harmonic oscillator; QE: Einstein characteristic temperature; *)\n",
    "Cv/.{w -> kB QE/hb}   (* Transformation rules *)"
   ]
  },
  {
   "cell_type": "code",
   "execution_count": 19,
   "id": "7e8f5094-53e4-4844-bbc9-d70a0761643d",
   "metadata": {},
   "outputs": [
    {
     "data": {
      "text/html": [
       "<div><img alt=\"Output\" src=\"data:image/png;base64,iVBORw0KGgoAAAANSUhEUgAAAMwAAABRCAIAAAARuN44AAAA0HpUWHRSYXcgcHJvZmlsZSB0eXBlIGV4aWYAAHjabU9bDsMgDPvnFDtCSMCB49CWSbvBjr8E2CamWWrsOA+a0J+Pe7g5OFJIWQsqQIZUU+VmotDE5Eh1xIHzXLW4+yEvEZtZ+VtAX/6x+4rJXH4WEU8h/oJpSWtgLRKefmwzP1Y/t1L2Re8zFip9fv1vnkQZGVGTxcSkimq6BJNGyExZcccJWGPExZRO4w5VG4N6hzQfdHDXvbsHiBmXnyD+iTTjOqK9N9wmWcqImQ/Ly6j6OS+gkVr50L+cKwAAAAlwSFlzAAAWJQAAFiUBSVIk8AAAADx0RVh0U29mdHdhcmUAQ3JlYXRlZCB3aXRoIHRoZSBXb2xmcmFtIExhbmd1YWdlIDogd3d3LndvbGZyYW0uY29tXKKmhQAAACF0RVh0Q3JlYXRpb24gVGltZQAyMDIzOjA5OjA0IDIwOjU4OjU1gMWUzQAADnBJREFUeJztnU9oG8f3wJ+/v++ppTUbXUoIoki6lCSoJIpaXDmQQLxqWkIPIZJTKAYHl/Uhl5YKlEALddpKJC2kIBljQy+N5MbQEiolK4MDkVqKIheL2DTQ7GJM8SF4u1V76c3fw/tlu9k/s7Oy1pLc+Zyk2dmZ2dm3M2/e/HkD29vbwGB4yX+6XQDG3qf7Qlar1QZ0yLKsXcpmswMmisWiXVLZbDabzeLveDxuvtecBaNtQqGQVqWTk5OkqNtdJZPJAEChUMC/giDo/+JVSZIoUxMEwRwoSRIAZDKZjhSYgeirtFqtAoBl5f9/5N0qlQWWrz8YDAaDQfztSsgKhYImnY65MDoLtg52b6qb3eXVq1cB4OzZs/rAiYkJSZJqtZrb1O7du5dMJjtWOIYbXnzxRQDY3Ny0vNpNIatUKgAQCAT0gX6/HwB+/PFHV0nVajV8zp0jy7Jet2PQsL6+DgD79++3vPpfu9tkWa7X6xsbGwDg9/uj0ahBGjpCMBg0hBw4cIAcR5Ikc0mmpqbu3LnTkSJtbm6mUikA+OCDD8gxZVleWFgwBB46dOiVV17x+XyOGWlybM6oWCxubGycPXvW/KR4CQCGhoZisZhjLoYCa+/00KFDp0+fNsfR0jfj9/st+wpZlvP5fDAYtJUQy06U53lzTEEQtra2OtiR69UvDdQiUYWi1MkkSSJonW51MiyAXc1YxjSTTqcdb9cim1VJrP9qtWq+i+M4vCsSiVA+EZJOpw2F5DiuVCpZZm0Jz/OEB7EsLWLdkomiGAwGR0ZGsA+6efNmo9HI5/MAkMvl7ArRBigBen777Td40mlScvXq1ffff7+DpXILfgwA0Gq15ufnJUn65JNPAODKlSs0t1++fJlSmyyXy6qqchynqmqj0ZBlmbJ7icfjoigCQCKROHLkSKvVyufzqqq+8cYbhULBnDvP8ydPnjQEWr6UUCgEAJlMhtSsWoqeWSpx+AAAHWzMLIck+MKwAJQtmd0XhuxCS2YITyQSAMBxHPl27XWCqRmwa8mwNUqn06hCTE9PUzzQtvYN6BPc2tqKRCJYTv07xawpqwsjE7oRxFrxN0vl+fPn8ccvv/xiK7AuOX78OAAY1JqZmRme5+m1jWw2e/ny5U4ViUCz2cQBQbPZJMd85513AEBVVZpkx8bGAGBqaoom8vz8PAC8/vrrKMezs7M0d3322Wdgamx8Ph+mpqqqWbOkYXJyUhRFQRAcOzfXo8uXXnrJVXyCMSKZTPI8n0qltDjxeFySJFc98vr6ulv9tw2azeaJEydSqdT6+no4HCZH/vPPPwFAU57IHDhwgOd5URQdrTbNZlOSJI7jYrHYuXPnAKDRaCiKQr4Le1gAGB8fN1wKBAIorN9++y1NUfVMTk7m83kaCQN6Ibtx4wYA8DxPM24CgGKxeOzYsYGBgeHh4YGBgVAoZGkUuHPnjiAIGGdgYODRo0fb29sGPSMYDNpNKxWLRWwOPQUlTFVVmjpVFOXatWsAoCkYjmBjhjVM4JtvvgEA1J/C4TAK8eLiIvmu1dVVAIhEIpYv7siRIwBQr9cpi4rgcBIA8vm8/tWgfmaBXT8qSVK1Wq1Wq6VSCeU9EolQKmSCIEQikXQ6zXEc6g2SJCUSCUIKQNG1W2bk9hZHDJrWysoKvk5zXlrMzBMEQcDIiUTCsa7wXtSTUMfStE9LnQzjaONBFOJEIkHOBZOyi2ZWKzE+z/MZE4Txo8OT2l3QtEUkGAxS5pFOp3me39ra4jjOcIsgCHZPqx8ESJJkNm2YkSTJi8kifb1rEmZpL7AzYQSDQcsJLgN6IcPa1uTYLGQrKyvw9GCiVCphCmRpJivydkJmSdu1bWuMHRoa0uQMTRjDw8OJRIKwCAKeNKS//vrr559/nkwmDdpSLpfbt29fs9k0qzXYDWl210KhQMgFCQQCjvbSnaAoyoULF1RVjUQiZEuv2YQxOjp67949euVyfHw8lUoVi8WPP/7Ysl/DvnJkZEQLOX36NNoyFhcXOz6fZmnCGBoaajM5SmGsVqv4TZPFeXp6Gj9HnufNhj4Mpxx4dwvt48Zv2jDCt4xpCNe0MXLbb4iDd2H1mlsy/PwMDSRNj9led9nZLoJW8Y/FYp9++ik8GQ/b0Wq10H4riuKHH34YN1Gv11utFmWm3QUtI6qqzs3Nuboxl8uhTNy+fZv+rnfffRcAZmZmzJdwXAkADx48yOrAhXFoibADR1F//PGH5VWcIzZP7nUW2+7SzMGDB4Ha/AMAX3zxxS4YF7wjFosVCoXR0dFUKmU3bWdHKBSSJGl5eZn+lnA4jLYMs0KCxnoAwIkEM+Vy2XIiEpPFFBRFMXfES0tL8HQv7AUuhAy/SzQT2+H3+7/77jsA4HkeJ4j6mmQyubGxkUqlRkdH4Yn5gIZHjx4BgFmtITM2NiaK4ldffWUIv3nzJgAIgmBeaYLq8vfff28nZKdOncIfCwsL2FhqNJtNFN8333zTVTldQ9mtajoZedykDSozmQx5tqdnMaspdjqWnU6mjQPIE2KWaWLPhVWNl7TpXcvUpqenwWkKS1MuV1ZWtEBtWskwcPZCJ7NoyWq1mn45V6vVqlQqjUYDAARBIH/NPp8vl8udOXPm1q1bMzMzxWLREL9cLj///PP91Y3mcrn79+83Go0zZ87cvXvXPDTW7Mz6ukqn020sjpqYmEilUnqdBM2tkUjEMjVsqFRVJfSYmUymXq+rqvryyy9jc6hNkHMcZzk3hd2oAbc6wz+Y5c5gIUOCwSD9qBANENrsKRp1cVqX53n999SDWLZP+ulkrfwEOxlNXWFkQ0u2tbWlpYOXMF9C04IRyHbplZUVs3YfiUTM76KNpT6ODGyb9l0aWrLBwcFXX33VccLOgCzLc3Nzy8vL9Xp93759oVDo6NGj4+PjXqx87CzaUkSDEU4LHxwcROXGvGhxcHDw4MGDlO00tn/mlYnaskG8ZBdNo1wur66uaqUiUC6Xr1+/Looiz/MXL17s1KJFRyyEjLGHyWazqVQqEoncv39/1zLt/r5Lxm6CvWGj0SiXy1pgG9t2XPF/H330kacZMHqKF1544eHDh2trazdu3Hj8+PHa2tqXX3753nvvPfPMM6+99ppHmbLu8l+Hoihvv/22ZuAFAI7jbt265d2QnwnZvxTNEku/vaptmJAxPIcp/gzPYULG8BwmZAzPYULG8BwmZAzP+WcVxt9///348eMuFoWxN/D5fM8++6w+5B8he/DgAW4AZDB2wpUrV9566y19CLOTMTyH6WQMz2FCxvAcJmQMz2FCxvAcJmQMz2FCxvAc10J26dIl/cpdxq4Rj8fpHfa48EmzC7jd3uT20OU9g2EDnH6rreUmQsIuaDzuC38TtqAZdvOWSiWaQ7W3XfqkaQ/9BjvHxN0JWaFQoHzOPUaP+ICiObbNMjtXxXPErRC7E7JEItHjW3O9oHd8QKXTaZrj9QzoDxT3AkchdqGTybLcaDTc7vLdA/SOD6hz587heTauIPuk2Tlkx0rg6lSfxcVFPDy24yiKsrCw0Gq12nDlsguQfUC5KvAOfUCFw+FKpWJ5CJQdzj5pnhTM0Z+V3Q5yZyGmbxXtDk/cIYVCQdMie9NhIKV7HgOW3QfhOAlKpxaCILh6C1gYx77S8hEMWBYei01WFmlbMkVRRFHslJMspFarTU1NiaJIPvOsX7D0LKaH3ksNgePHjxNOIzNA5ZMGAJ4+IhgAlpaW0PXRxMSEFmjp9gYbCPOZak9B+UGUSqXOnjemPRL6BcPfPduSmSsKTy5CNZxS8RcEgRCHsiXD83loik3pk8YSfCLHN44141hmWsV/dXX16NGjlJFp8Pv9HMcVCoVcLufpztKdg6ddGgyhePSN2XEigY60ZOFwWJIkR0ck9D5p2gbdxwiC4HgGOa2QLS0tHT58eMcF+4dkMnn37t3e8bVLGCf2mg8onufJHq5c+aRpD1dCTCtk9Xrd1VdLQwetIbIskx0M2EHjnqfXfEAFAgHCSNC1Txr3uBViWiFTVdWt667dZHNz00H3tGJycvLatWsjIyOae55KpfLzzz8fO3bM0B/1lA8oPI/T7mogELBUjPCs5J3TjhDTqIHoc4UmZttgYdpW/KvVqttxSXvueaAHfEBNT097fegzpeJPCVVL9tdff+34A+gt8HP8+uuv7dzzVCoVS7+WgiDk83kcBMiyTNMHybK8EwOsGXSo0EfQ2sn2hilLA/0R+Xy+5eXlixcvmiNEo9GffvqpL3xA9T60QuZoZYjH44SrY2NjHR9I6nNUFEWSJH0IOUe9ex5FUa5fv26IUK/X7Vw95HI570ZtexIXc5dkyONzL2Zn9Tmura3Nzs7qQ+hz7Hf3PL0PrZA5Onfd/fdkyNHn89GXYY+55+lxqBT/5557jt5vV19w6tSpSqVSq9VOnjzZhu2ju6CP8z6CqiXzYg2Z2dMCPO1theAeYef0tXue1dXV3ve5oYe2u+Q4ztLjbttsbm6mUilDoCiK2qnMQ0NDnlYlStXw8DDP8+ho9/z58wBw+/bt+fn5UChEs/qlK2ijln6BVsii0WhnrWX79+8nv0VXY4VYLNbGMqRkMhmNRtFnarFYrFQq6J6nUqn0clNhZ3bpILjyx3JtTxvQnupz6dKlwcHBf7m9p0cIhUI9/hkYoJ27PHz4MK6yZXQXWZZ///33PpIwoBeyaDSKS90Z3eXhw4dee3PuOLRChp8O/Q5mhkf88MMPJ06c6HYp3OFiS1wikXA0yTK8Zn5+XnMr3i+4ELL2Nv0xOogsyxzH9ZdCBq6ELBwONxoNx9XlDO9YXFy8cOFCt0vhGnen+iQSCfS7zugKs7OzfddXglshGx8f77uZvj2DLMs+n6/v+kpwK2RsjNlF5ubm+tTRgutD8DKZDOFoDYZ32B1F0fswZxEMz2FnxjI8539zBNDDf/WnCQAAAABJRU5ErkJggg==\"></div>"
      ],
      "text/plain": [
       "   QE/T         2\n",
       "3 E     kB NA QE\n",
       "-----------------\n",
       "       QE/T 2  2\n",
       "(-1 + E    )  T"
      ]
     },
     "execution_count": 19,
     "metadata": {
      "text/html": [],
      "text/plain": []
     },
     "output_type": "execute_result"
    }
   ],
   "source": [
    "Cv = 3 NA kB*(QE/T)^2*(Exp[QE/T]/(Exp[QE/T]-1)^2)"
   ]
  },
  {
   "cell_type": "code",
   "execution_count": null,
   "id": "3d94bc81-ae8b-4fb5-a1ee-49d0b004348d",
   "metadata": {},
   "outputs": [],
   "source": [
    "(* Task Four: *)\n",
    "\n",
    "NA = 6.022*10^23;  (* Avogadro's constant *)\n",
    "kB = 1.38*10^-23;  (* Boltzmann constant *)\n",
    "QE = 1320;  (* Einstein characteristic temperature *)\n",
    "\n",
    "Plot[Cv, {T, 10, 1320}]"
   ]
  },
  {
   "cell_type": "code",
   "execution_count": null,
   "id": "03f70820-e44b-4157-9af5-2cc4ceabe2fa",
   "metadata": {},
   "outputs": [],
   "source": []
  }
 ],
 "metadata": {
  "kernelspec": {
   "display_name": "Wolfram Language 13.3",
   "language": "Wolfram Language",
   "name": "wolframlanguage13.3"
  },
  "language_info": {
   "codemirror_mode": "mathematica",
   "file_extension": ".m",
   "mimetype": "application/vnd.wolfram.m",
   "name": "Wolfram Language",
   "pygments_lexer": "mathematica",
   "version": "12.0"
  }
 },
 "nbformat": 4,
 "nbformat_minor": 5
}
